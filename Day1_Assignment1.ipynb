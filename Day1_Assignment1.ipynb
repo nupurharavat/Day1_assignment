{
 "cells": [
  {
   "cell_type": "code",
   "execution_count": null,
   "metadata": {},
   "outputs": [],
   "source": [
    "# Answer_1    \n",
    "B.  RAINBOW\n",
    "\n"
   ]
  },
  {
   "cell_type": "code",
   "execution_count": 5,
   "metadata": {},
   "outputs": [
    {
     "data": {
      "text/plain": [
       "'LETS UPGRADE'"
      ]
     },
     "execution_count": 5,
     "metadata": {},
     "output_type": "execute_result"
    }
   ],
   "source": [
    "# Answer_2\n",
    "a='lets upgrade'\n",
    "a.upper()"
   ]
  },
  {
   "cell_type": "code",
   "execution_count": 10,
   "metadata": {},
   "outputs": [
    {
     "name": "stdout",
     "output_type": "stream",
     "text": [
      "50\n",
      "56\n",
      "Profit\n"
     ]
    }
   ],
   "source": [
    "#Answer_3  \n",
    "cp= int(input()) \n",
    "sp= int(input())\n",
    "if cp>sp:\n",
    "    print(\"Loss\")\n",
    "elif cp<sp:\n",
    "    print(\"Profit\")\n",
    "else:\n",
    "    print(\"Neither\")\n"
   ]
  },
  {
   "cell_type": "code",
   "execution_count": 11,
   "metadata": {},
   "outputs": [
    {
     "name": "stdout",
     "output_type": "stream",
     "text": [
      "5\n",
      "400\n"
     ]
    }
   ],
   "source": [
    "#Answer_4\n",
    "eu=int(input())\n",
    "inr=eu*80     #1 Euro = 80 INR\n",
    "print(inr)"
   ]
  },
  {
   "cell_type": "code",
   "execution_count": null,
   "metadata": {},
   "outputs": [],
   "source": []
  }
 ],
 "metadata": {
  "kernelspec": {
   "display_name": "Python 3",
   "language": "python",
   "name": "python3"
  },
  "language_info": {
   "codemirror_mode": {
    "name": "ipython",
    "version": 3
   },
   "file_extension": ".py",
   "mimetype": "text/x-python",
   "name": "python",
   "nbconvert_exporter": "python",
   "pygments_lexer": "ipython3",
   "version": "3.8.3"
  }
 },
 "nbformat": 4,
 "nbformat_minor": 4
}
